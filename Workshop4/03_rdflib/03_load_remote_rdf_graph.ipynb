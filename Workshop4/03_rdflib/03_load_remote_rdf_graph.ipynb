{
 "cells": [
  {
   "cell_type": "markdown",
   "metadata": {},
   "source": [
    "# Exercise 3: Load Remote Graph\n",
    "\n",
    "In this exercise you will Learn how to use RDFLib to:\n",
    "- Load a RDF Graph from the internet."
   ]
  },
  {
   "cell_type": "markdown",
   "metadata": {},
   "source": [
    "As a first step, let's import the python modules we need."
   ]
  },
  {
   "cell_type": "code",
   "execution_count": 18,
   "metadata": {},
   "outputs": [],
   "source": [
    "# pip install rdflib\n",
    "import rdflib\n",
    "from rdflib import Graph, URIRef, BNode, Literal, Namespace\n",
    "from rdflib.namespace import RDF, RDFS, OWL, XSD, FOAF, DCTERMS, SDO, SKOS\n",
    "\n",
    "import ssl\n",
    "ssl._create_default_https_context = ssl._create_unverified_context"
   ]
  },
  {
   "cell_type": "markdown",
   "metadata": {},
   "source": [
    "Let's load this RDF graph from DBPedia (click on the link): http://dbpedia.org/resource/Michael_Jackson"
   ]
  },
  {
   "cell_type": "code",
   "execution_count": 19,
   "metadata": {},
   "outputs": [
    {
     "data": {
      "text/plain": [
       "<Graph identifier=N3a5c06b2b6864941821b7223d06f1089 (<class 'rdflib.graph.Graph'>)>"
      ]
     },
     "execution_count": 19,
     "metadata": {},
     "output_type": "execute_result"
    }
   ],
   "source": [
    "# Initialize a graph\n",
    "g = Graph()\n",
    "\n",
    "# Parse in a RDF graph from dbpedia\n",
    "g.parse('http://dbpedia.org/resource/Michael_Jackson')"
   ]
  },
  {
   "cell_type": "code",
   "execution_count": 20,
   "metadata": {},
   "outputs": [
    {
     "name": "stdout",
     "output_type": "stream",
     "text": [
      "http://dbpedia.org/resource/Michael_Jackson http://dbpedia.org/ontology/wikiPageExternalLink https://archive.org/details/michaeljacksonma0000tara\n",
      "http://dbpedia.org/resource/Michael_Jackson http://www.w3.org/2002/07/owl#sameAs http://ht.dbpedia.org/resource/Michael_Jackson\n",
      "http://dbpedia.org/resource/Michael_Jackson http://www.w3.org/2002/07/owl#sameAs http://af.dbpedia.org/resource/Michael_Jackson\n",
      "http://dbpedia.org/resource/Michael_Jackson http://dbpedia.org/ontology/wikiPageWikiLink http://dbpedia.org/resource/Vitiligo\n",
      "http://dbpedia.org/resource/Michael_Jackson http://www.w3.org/1999/02/22-rdf-syntax-ns#type http://dbpedia.org/class/yago/Philanthropist110421956\n"
     ]
    }
   ],
   "source": [
    "# Loop through, and print out, the first 5 triples in the graph (subject, predicate, object)\n",
    "for index, (s, p, o) in enumerate(g):\n",
    "    print(s, p, o)\n",
    "    if index == 4:\n",
    "        break"
   ]
  },
  {
   "cell_type": "code",
   "execution_count": 21,
   "metadata": {},
   "outputs": [
    {
     "name": "stdout",
     "output_type": "stream",
     "text": [
      "The graph has 1309 facts (tripples)\n"
     ]
    }
   ],
   "source": [
    "# Print the size of the Graph\n",
    "print(f'The graph has {len(g)} facts (tripples)')"
   ]
  },
  {
   "cell_type": "code",
   "execution_count": 22,
   "metadata": {
    "tags": []
   },
   "outputs": [
    {
     "name": "stdout",
     "output_type": "stream",
     "text": [
      "@prefix ns1: <http://dbpedia.org/ontology/> .\n",
      "@prefix ns2: <http://dbpedia.org/property/> .\n",
      "@prefix ns3: <http://purl.org/dc/terms/> .\n",
      "@prefix ns4: <http://xmlns.com/foaf/0.1/> .\n",
      "@prefix ns5: <http://www.w3.org/2004/02/skos/core#> .\n",
      "@prefix ns6: <http://www.w3.org/ns/prov#> .\n",
      "@prefix ns7: <http://purl.org/linguistics/gold/> .\n",
      "@prefix ns8: <http://schema.org/> .\n",
      "@prefix owl: <http://www.w3.org/2002/07/owl#> .\n",
      "@prefix rdfs: <http://www.w3.org/2000/01/rdf-schema#> .\n",
      "@prefix xsd: <http://www.w3.org/2001/XMLSchema#> .\n",
      "\n",
      "<http://dbpedia.org/resource/Michael_Jackson> a <http://dbpedia.org/class/yago/Abstraction100002137>,\n",
      "        <http://dbpedia.org/class/yago/Actor109765278>,\n",
      "        <http://dbpedia.org/class/yago/Actress109767700>,\n",
      "        <http://dbpedia.org/class/yago/Adult109605289>,\n",
      "        <http://dbpedia.org/class/yago/Articulator1098\n"
     ]
    }
   ],
   "source": [
    "# Print out a part of the Graph in the RDF Turtle format\n",
    "ttl = g.serialize(format='ttl')\n",
    "print(ttl[:846])"
   ]
  },
  {
   "cell_type": "code",
   "execution_count": null,
   "metadata": {},
   "outputs": [],
   "source": []
  }
 ],
 "metadata": {
  "kernelspec": {
   "display_name": "Python 3.9.13 ('.venv': venv)",
   "language": "python",
   "name": "python3"
  },
  "language_info": {
   "codemirror_mode": {
    "name": "ipython",
    "version": 3
   },
   "file_extension": ".py",
   "mimetype": "text/x-python",
   "name": "python",
   "nbconvert_exporter": "python",
   "pygments_lexer": "ipython3",
   "version": "3.9.13"
  },
  "orig_nbformat": 2,
  "vscode": {
   "interpreter": {
    "hash": "b595bb45eae9b823552d35c952027feb614a769dd3c34896f2ad70e2eb427437"
   }
  }
 },
 "nbformat": 4,
 "nbformat_minor": 2
}
